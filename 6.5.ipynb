{
 "cells": [
  {
   "cell_type": "markdown",
   "metadata": {},
   "source": [
    "### 3-3．모델작성\n",
    "#### 데이터의 리드와 확인"
   ]
  },
  {
   "cell_type": "code",
   "execution_count": 10,
   "metadata": {},
   "outputs": [
    {
     "data": {
      "text/html": [
       "<div>\n",
       "<style scoped>\n",
       "    .dataframe tbody tr th:only-of-type {\n",
       "        vertical-align: middle;\n",
       "    }\n",
       "\n",
       "    .dataframe tbody tr th {\n",
       "        vertical-align: top;\n",
       "    }\n",
       "\n",
       "    .dataframe thead th {\n",
       "        text-align: right;\n",
       "    }\n",
       "</style>\n",
       "<table border=\"1\" class=\"dataframe\">\n",
       "  <thead>\n",
       "    <tr style=\"text-align: right;\">\n",
       "      <th></th>\n",
       "      <th>age</th>\n",
       "      <th>job2</th>\n",
       "      <th>number_yoy2</th>\n",
       "      <th>member2</th>\n",
       "      <th>period2</th>\n",
       "      <th>budget2</th>\n",
       "      <th>pre_d</th>\n",
       "      <th>Hawaii</th>\n",
       "      <th>Ho Chi Minh</th>\n",
       "      <th>Hong Kong</th>\n",
       "      <th>...</th>\n",
       "      <th>Oceania</th>\n",
       "      <th>South America</th>\n",
       "      <th>fall</th>\n",
       "      <th>spring</th>\n",
       "      <th>summer</th>\n",
       "      <th>winter</th>\n",
       "      <th>bicycle</th>\n",
       "      <th>plane</th>\n",
       "      <th>ship</th>\n",
       "      <th>walking</th>\n",
       "    </tr>\n",
       "  </thead>\n",
       "  <tbody>\n",
       "    <tr>\n",
       "      <th>0</th>\n",
       "      <td>20</td>\n",
       "      <td>0</td>\n",
       "      <td>0</td>\n",
       "      <td>0</td>\n",
       "      <td>0</td>\n",
       "      <td>0</td>\n",
       "      <td>1</td>\n",
       "      <td>0</td>\n",
       "      <td>0</td>\n",
       "      <td>0</td>\n",
       "      <td>...</td>\n",
       "      <td>0</td>\n",
       "      <td>0</td>\n",
       "      <td>0</td>\n",
       "      <td>0</td>\n",
       "      <td>1</td>\n",
       "      <td>0</td>\n",
       "      <td>0</td>\n",
       "      <td>0</td>\n",
       "      <td>1</td>\n",
       "      <td>0</td>\n",
       "    </tr>\n",
       "    <tr>\n",
       "      <th>1</th>\n",
       "      <td>20</td>\n",
       "      <td>0</td>\n",
       "      <td>0</td>\n",
       "      <td>0</td>\n",
       "      <td>0</td>\n",
       "      <td>0</td>\n",
       "      <td>1</td>\n",
       "      <td>0</td>\n",
       "      <td>0</td>\n",
       "      <td>0</td>\n",
       "      <td>...</td>\n",
       "      <td>0</td>\n",
       "      <td>0</td>\n",
       "      <td>0</td>\n",
       "      <td>0</td>\n",
       "      <td>1</td>\n",
       "      <td>0</td>\n",
       "      <td>0</td>\n",
       "      <td>0</td>\n",
       "      <td>0</td>\n",
       "      <td>1</td>\n",
       "    </tr>\n",
       "    <tr>\n",
       "      <th>2</th>\n",
       "      <td>20</td>\n",
       "      <td>0</td>\n",
       "      <td>0</td>\n",
       "      <td>0</td>\n",
       "      <td>0</td>\n",
       "      <td>0</td>\n",
       "      <td>1</td>\n",
       "      <td>0</td>\n",
       "      <td>0</td>\n",
       "      <td>0</td>\n",
       "      <td>...</td>\n",
       "      <td>0</td>\n",
       "      <td>0</td>\n",
       "      <td>0</td>\n",
       "      <td>0</td>\n",
       "      <td>1</td>\n",
       "      <td>0</td>\n",
       "      <td>0</td>\n",
       "      <td>1</td>\n",
       "      <td>0</td>\n",
       "      <td>0</td>\n",
       "    </tr>\n",
       "    <tr>\n",
       "      <th>3</th>\n",
       "      <td>20</td>\n",
       "      <td>0</td>\n",
       "      <td>0</td>\n",
       "      <td>0</td>\n",
       "      <td>0</td>\n",
       "      <td>0</td>\n",
       "      <td>1</td>\n",
       "      <td>0</td>\n",
       "      <td>0</td>\n",
       "      <td>0</td>\n",
       "      <td>...</td>\n",
       "      <td>0</td>\n",
       "      <td>1</td>\n",
       "      <td>0</td>\n",
       "      <td>0</td>\n",
       "      <td>1</td>\n",
       "      <td>0</td>\n",
       "      <td>1</td>\n",
       "      <td>0</td>\n",
       "      <td>0</td>\n",
       "      <td>0</td>\n",
       "    </tr>\n",
       "    <tr>\n",
       "      <th>4</th>\n",
       "      <td>20</td>\n",
       "      <td>0</td>\n",
       "      <td>0</td>\n",
       "      <td>0</td>\n",
       "      <td>0</td>\n",
       "      <td>0</td>\n",
       "      <td>1</td>\n",
       "      <td>0</td>\n",
       "      <td>0</td>\n",
       "      <td>0</td>\n",
       "      <td>...</td>\n",
       "      <td>0</td>\n",
       "      <td>1</td>\n",
       "      <td>0</td>\n",
       "      <td>0</td>\n",
       "      <td>1</td>\n",
       "      <td>0</td>\n",
       "      <td>0</td>\n",
       "      <td>0</td>\n",
       "      <td>1</td>\n",
       "      <td>0</td>\n",
       "    </tr>\n",
       "  </tbody>\n",
       "</table>\n",
       "<p>5 rows × 70 columns</p>\n",
       "</div>"
      ],
      "text/plain": [
       "   age  job2  number_yoy2  member2  period2  budget2  pre_d  Hawaii  \\\n",
       "0   20     0            0        0        0        0      1       0   \n",
       "1   20     0            0        0        0        0      1       0   \n",
       "2   20     0            0        0        0        0      1       0   \n",
       "3   20     0            0        0        0        0      1       0   \n",
       "4   20     0            0        0        0        0      1       0   \n",
       "\n",
       "   Ho Chi Minh  Hong Kong  ...  Oceania  South America  fall  spring  summer  \\\n",
       "0            0          0  ...        0              0     0       0       1   \n",
       "1            0          0  ...        0              0     0       0       1   \n",
       "2            0          0  ...        0              0     0       0       1   \n",
       "3            0          0  ...        0              1     0       0       1   \n",
       "4            0          0  ...        0              1     0       0       1   \n",
       "\n",
       "   winter  bicycle  plane  ship  walking  \n",
       "0       0        0      0     1        0  \n",
       "1       0        0      0     0        1  \n",
       "2       0        0      1     0        0  \n",
       "3       0        1      0     0        0  \n",
       "4       0        0      0     1        0  \n",
       "\n",
       "[5 rows x 70 columns]"
      ]
     },
     "execution_count": 10,
     "metadata": {},
     "output_type": "execute_result"
    }
   ],
   "source": [
    "import pandas as pd\n",
    "d_df_new = pd.read_csv('b-prep.csv', sep=',')\n",
    "\n",
    "d_df_new.head()"
   ]
  },
  {
   "cell_type": "markdown",
   "metadata": {},
   "source": [
    "#### 불균형 데이터의 균형화"
   ]
  },
  {
   "cell_type": "code",
   "execution_count": 2,
   "metadata": {},
   "outputs": [
    {
     "name": "stdout",
     "output_type": "stream",
     "text": [
      "Name: imbalanced-learn\n",
      "Version: 0.8.0\n",
      "Summary: Toolbox for imbalanced dataset in machine learning.\n",
      "Home-page: https://github.com/scikit-learn-contrib/imbalanced-learn\n",
      "Author: None\n",
      "Author-email: None\n",
      "License: MIT\n",
      "Location: /opt/conda/lib/python3.8/site-packages\n",
      "Requires: numpy, joblib, scikit-learn, scipy\n",
      "Required-by: \n"
     ]
    }
   ],
   "source": [
    "!pip show imbalanced-learn"
   ]
  },
  {
   "cell_type": "code",
   "execution_count": 3,
   "metadata": {},
   "outputs": [
    {
     "name": "stdout",
     "output_type": "stream",
     "text": [
      "Package                       Version\n",
      "----------------------------- -------------------\n",
      "alembic                       1.5.2\n",
      "anyio                         2.0.2\n",
      "appdirs                       1.4.4\n",
      "argon2-cffi                   20.1.0\n",
      "async-generator               1.10\n",
      "attrs                         20.3.0\n",
      "Babel                         2.9.0\n",
      "backcall                      0.2.0\n",
      "backports.functools-lru-cache 1.6.1\n",
      "beautifulsoup4                4.9.3\n",
      "bleach                        3.2.3\n",
      "blinker                       1.4\n",
      "bokeh                         2.2.3\n",
      "Bottleneck                    1.3.2\n",
      "brotlipy                      0.7.0\n",
      "cached-property               1.5.1\n",
      "certifi                       2020.12.5\n",
      "certipy                       0.1.3\n",
      "cffi                          1.14.4\n",
      "chardet                       4.0.0\n",
      "click                         7.1.2\n",
      "cloudpickle                   1.6.0\n",
      "cmake                         3.18.4.post1\n",
      "conda                         4.9.2\n",
      "conda-package-handling        1.7.2\n",
      "cryptography                  3.3.1\n",
      "cycler                        0.10.0\n",
      "Cython                        0.29.21\n",
      "cytoolz                       0.11.0\n",
      "dask                          2021.1.1\n",
      "decorator                     4.4.2\n",
      "defusedxml                    0.6.0\n",
      "dill                          0.3.3\n",
      "distributed                   2021.1.1\n",
      "dlib                          19.22.0\n",
      "ela-raspberrypi-kernel        1.1\n",
      "eleiva-api                    1.0\n",
      "entrypoints                   0.3\n",
      "face-recognition              1.3.0\n",
      "face-recognition-models       0.3.0\n",
      "findspark                     1.4.2\n",
      "fsspec                        0.8.5\n",
      "gmpy2                         2.1.0b1\n",
      "h5py                          3.1.0\n",
      "HeapDict                      1.0.1\n",
      "idna                          2.10\n",
      "imagecodecs                   2021.1.11\n",
      "imageio                       2.9.0\n",
      "imbalanced-learn              0.8.0\n",
      "importlib-metadata            3.4.0\n",
      "imutils                       0.5.4\n",
      "ipykernel                     5.4.2\n",
      "ipympl                        0.6.3\n",
      "ipython                       7.19.0\n",
      "ipython-genutils              0.2.0\n",
      "ipython-sql                   0.4.0\n",
      "ipywidgets                    7.6.3\n",
      "jedi                          0.17.2\n",
      "Jinja2                        2.11.2\n",
      "joblib                        1.0.0\n",
      "json5                         0.9.5\n",
      "jsonschema                    3.2.0\n",
      "jupyter-client                6.1.11\n",
      "jupyter-core                  4.7.0\n",
      "jupyter-server                1.2.2\n",
      "jupyter-telemetry             0.1.0\n",
      "jupyterhub                    1.3.0\n",
      "jupyterlab                    3.0.5\n",
      "jupyterlab-pygments           0.1.2\n",
      "jupyterlab-server             2.1.3\n",
      "jupyterlab-widgets            1.0.0\n",
      "kiwisolver                    1.3.1\n",
      "llvmlite                      0.35.0\n",
      "locket                        0.2.0\n",
      "Mako                          1.1.4\n",
      "MarkupSafe                    1.1.1\n",
      "matplotlib                    3.3.3\n",
      "mistune                       0.8.4\n",
      "mock                          4.0.3\n",
      "mpmath                        1.1.0\n",
      "msgpack                       1.0.2\n",
      "nbclassic                     0.2.6\n",
      "nbclient                      0.5.1\n",
      "nbconvert                     6.0.7\n",
      "nbformat                      5.1.2\n",
      "nest-asyncio                  1.4.3\n",
      "networkx                      2.5\n",
      "notebook                      6.2.0\n",
      "numba                         0.52.0\n",
      "numexpr                       2.7.2\n",
      "numpy                         1.19.5\n",
      "oauthlib                      3.0.1\n",
      "olefile                       0.46\n",
      "opencv-python                 4.5.2.52\n",
      "packaging                     20.8\n",
      "pamela                        1.0.0\n",
      "pandas                        1.2.1\n",
      "pandocfilters                 1.4.2\n",
      "parso                         0.7.1\n",
      "partd                         1.1.0\n",
      "patsy                         0.5.1\n",
      "pexpect                       4.8.0\n",
      "pickleshare                   0.7.5\n",
      "Pillow                        8.1.0\n",
      "pip                           21.0\n",
      "pooch                         1.3.0\n",
      "prettytable                   0.7.2\n",
      "prometheus-client             0.9.0\n",
      "prompt-toolkit                3.0.14\n",
      "protobuf                      3.14.0\n",
      "psutil                        5.8.0\n",
      "psycopg2-binary               2.8.6\n",
      "ptyprocess                    0.7.0\n",
      "py4j                          0.10.9\n",
      "pycosat                       0.6.3\n",
      "pycparser                     2.20\n",
      "pycurl                        7.43.0.6\n",
      "Pygments                      2.7.4\n",
      "PyJWT                         2.0.1\n",
      "pyOpenSSL                     20.0.1\n",
      "pyparsing                     2.4.7\n",
      "pyrsistent                    0.17.3\n",
      "PySocks                       1.7.1\n",
      "pyspark                       3.1.1\n",
      "python-dateutil               2.8.1\n",
      "python-editor                 1.0.4\n",
      "python-json-logger            2.0.1\n",
      "pytz                          2020.5\n",
      "PyWavelets                    1.1.1\n",
      "PyYAML                        5.4.1\n",
      "pyzmq                         21.0.1\n",
      "requests                      2.25.1\n",
      "rpy2                          3.4.2\n",
      "ruamel-yaml-conda             0.15.80\n",
      "ruamel.yaml                   0.16.12\n",
      "ruamel.yaml.clib              0.2.2\n",
      "scikit-image                  0.18.1\n",
      "scikit-learn                  0.24.1\n",
      "scipy                         1.6.0\n",
      "seaborn                       0.11.1\n",
      "Send2Trash                    1.5.0\n",
      "setuptools                    49.6.0.post20210108\n",
      "simplegeneric                 0.8.1\n",
      "six                           1.15.0\n",
      "sniffio                       1.2.0\n",
      "sortedcontainers              2.3.0\n",
      "soupsieve                     2.0.1\n",
      "SQLAlchemy                    1.3.22\n",
      "sqlparse                      0.4.1\n",
      "statsmodels                   0.12.1\n",
      "sympy                         1.7.1\n",
      "tables                        3.6.1\n",
      "tblib                         1.6.0\n",
      "terminado                     0.9.2\n",
      "testpath                      0.4.4\n",
      "threadpoolctl                 2.1.0\n",
      "tifffile                      2021.1.14\n",
      "toolz                         0.11.1\n",
      "tornado                       6.1\n",
      "tqdm                          4.56.0\n",
      "traitlets                     5.0.5\n",
      "typing-extensions             3.7.4.3\n",
      "tzlocal                       2.1\n",
      "urllib3                       1.26.3\n",
      "vincent                       0.4.4\n",
      "wcwidth                       0.2.5\n",
      "webencodings                  0.5.1\n",
      "wheel                         0.36.2\n",
      "widgetsnbextension            3.5.1\n",
      "xlrd                          2.0.1\n",
      "zict                          2.0.0\n",
      "zipp                          3.4.0\n"
     ]
    }
   ],
   "source": [
    "!pip list"
   ]
  },
  {
   "cell_type": "code",
   "execution_count": 4,
   "metadata": {},
   "outputs": [
    {
     "name": "stdout",
     "output_type": "stream",
     "text": [
      "Requirement already satisfied: imbalanced-learn in /opt/conda/lib/python3.8/site-packages (0.8.0)\n",
      "Requirement already satisfied: scipy>=0.19.1 in /opt/conda/lib/python3.8/site-packages (from imbalanced-learn) (1.6.0)\n",
      "Requirement already satisfied: scikit-learn>=0.24 in /opt/conda/lib/python3.8/site-packages (from imbalanced-learn) (0.24.1)\n",
      "Requirement already satisfied: joblib>=0.11 in /opt/conda/lib/python3.8/site-packages (from imbalanced-learn) (1.0.0)\n",
      "Requirement already satisfied: numpy>=1.13.3 in /opt/conda/lib/python3.8/site-packages (from imbalanced-learn) (1.19.5)\n",
      "Requirement already satisfied: threadpoolctl>=2.0.0 in /opt/conda/lib/python3.8/site-packages (from scikit-learn>=0.24->imbalanced-learn) (2.1.0)\n"
     ]
    }
   ],
   "source": [
    "!pip install imbalanced-learn"
   ]
  },
  {
   "cell_type": "code",
   "execution_count": 11,
   "metadata": {},
   "outputs": [
    {
     "name": "stdout",
     "output_type": "stream",
     "text": [
      "1769 967\n",
      "967 967\n"
     ]
    }
   ],
   "source": [
    "import numpy as np\n",
    "from imblearn.under_sampling import RandomUnderSampler\n",
    "\n",
    "X = np.array(d_df_new.drop('pre_d', axis=1))\n",
    "Y = np.array(d_df_new['pre_d'])\n",
    "\n",
    "print(np.sum(Y == 1), np.sum(Y == 0))\n",
    "\n",
    "sampler = RandomUnderSampler(random_state=42)\n",
    "X, Y = sampler.fit_resample(X, Y)\n",
    "\n",
    "print(np.sum(Y == 1), np.sum(Y == 0))"
   ]
  },
  {
   "cell_type": "markdown",
   "metadata": {},
   "source": [
    "**----여기서부터 추가----**"
   ]
  },
  {
   "cell_type": "code",
   "execution_count": 14,
   "metadata": {},
   "outputs": [
    {
     "name": "stdout",
     "output_type": "stream",
     "text": [
      "Index(['age', 'job2', 'number_yoy2', 'member2', 'period2', 'budget2', 'Hawaii',\n",
      "       'Ho Chi Minh', 'Hong Kong', 'Jeju', 'LA', 'London', 'New York', 'Paris',\n",
      "       'Prague', 'Singapore', 'Sydney', 'Tokyo', 'Vancouver', 'unknown',\n",
      "       'email', 'letter', 'phone', 'Beijing duck', 'Chicken Rice',\n",
      "       'Croissant Sandwich', 'Fish and Chips', 'Gelato', 'Kebob',\n",
      "       'Masaman Curry', 'Pad Thai', 'Rice Noodles', 'Som Tom', 'bulgogi',\n",
      "       'green curry', 'ice cream', 'kimchi', 'lasagne', 'nasi goreng', 'ramen',\n",
      "       'rendang', 'satay', 'sushi', 'tomyumgoong', 'Apple', 'Banana', 'Coffee',\n",
      "       'Grapefruit', 'Kiwi', 'Mango', 'Orange', 'Strawberry', 'Tomato',\n",
      "       'Watermelon', 'Africa', 'Antarctica', 'Asia', 'Europe', 'North America',\n",
      "       'Oceania', 'South America', 'fall', 'spring', 'summer', 'winter',\n",
      "       'bicycle', 'plane', 'ship', 'walking'],\n",
      "      dtype='object')\n",
      "[ True False False  True False False False False False False False False\n",
      " False False False False False False False False False False False False\n",
      " False False False False False False False False False False False False\n",
      " False False False False False False False False False False False False\n",
      " False False False False False False False False False  True  True  True\n",
      " False False False False False False False False False]\n"
     ]
    }
   ],
   "source": [
    "from sklearn.feature_selection import SelectKBest\n",
    "\n",
    "# 특징량을 5개 선택\n",
    "selector = SelectKBest(k=5) \n",
    "selector.fit(X, Y)\n",
    "mask = selector.get_support()\n",
    "\n",
    "# 어느 변수를 선택하였는지 확인\n",
    "print(d_df_new.drop('pre_d', axis=1).columns)\n",
    "print(mask)"
   ]
  },
  {
   "cell_type": "code",
   "execution_count": 16,
   "metadata": {},
   "outputs": [
    {
     "name": "stdout",
     "output_type": "stream",
     "text": [
      "[[25  0  0  0  0]\n",
      " [25  0  0  0  0]\n",
      " [25  0  0  0  0]\n",
      " ...\n",
      " [46  0  0  0  0]\n",
      " [27  0  0  1  0]\n",
      " [25  0  0  1  0]]\n"
     ]
    }
   ],
   "source": [
    "# 선택한 특징량의 열만 취득\n",
    "X_sel5 = selector.transform(X)\n",
    "print(X_sel5)"
   ]
  },
  {
   "cell_type": "markdown",
   "metadata": {},
   "source": [
    "**----여기까지 추가----**"
   ]
  },
  {
   "cell_type": "markdown",
   "metadata": {},
   "source": [
    "#### 결정 트리 모델의 작성과 검증"
   ]
  },
  {
   "cell_type": "code",
   "execution_count": 22,
   "metadata": {},
   "outputs": [
    {
     "name": "stdout",
     "output_type": "stream",
     "text": [
      "0.9632952299556647 0.00845802437294304\n"
     ]
    }
   ],
   "source": [
    "# Scikit-learn의 로드\n",
    "from sklearn.model_selection import KFold\n",
    "from sklearn import tree\n",
    "from sklearn.metrics import accuracy_score\n",
    "\n",
    "# K-Fold교차 검증\n",
    "kf = KFold(n_splits=10, shuffle=True)\n",
    "# 모델의 정밀도를 보존하기 위한 준비\n",
    "scores = []\n",
    "# 데이터를 셔플하고, 훈련데이터와 테스트 데이터를 분활\n",
    "for train_id, test_id in kf.split(X_sel5):\n",
    "    # 훈련 데이터를 사용한 모델을 작성\n",
    "    x = X_sel5[train_id]\n",
    "    y = Y[train_id]\n",
    "    clf = tree.DecisionTreeClassifier()\n",
    "    clf.fit(x,y)\n",
    "    # 테스트 데이터에 모델을 적용\n",
    "    pred_y = clf.predict(X_sel5[test_id])\n",
    "    # 모델의 정밀도를 계산하고 보존\n",
    "    score = accuracy_score(Y[test_id], pred_y)\n",
    "    scores.append(score)\n",
    "\n",
    "# 모델의 평균정밀도, 표준편차를 확인\n",
    "scores = np.array(scores)\n",
    "print(scores.mean(), scores.std())"
   ]
  },
  {
   "cell_type": "code",
   "execution_count": 23,
   "metadata": {},
   "outputs": [
    {
     "name": "stdout",
     "output_type": "stream",
     "text": [
      "0.9306930693069307\n",
      "0.9791666666666666\n"
     ]
    }
   ],
   "source": [
    "# Scikit-learn의 로드\n",
    "#from sklearn.metrics import confusion_matrix\n",
    "from sklearn.metrics import recall_score\n",
    "from sklearn.metrics import precision_score\n",
    "\n",
    "# 재현률, 적합률의 확인\n",
    "#print(confusion_matrix(Y[test_id], pred_y))\n",
    "print(recall_score(Y[test_id], pred_y))\n",
    "print(precision_score(Y[test_id], pred_y))"
   ]
  },
  {
   "cell_type": "markdown",
   "metadata": {},
   "source": [
    "#### 모델의 정밀도 향상"
   ]
  },
  {
   "cell_type": "code",
   "execution_count": 24,
   "metadata": {},
   "outputs": [
    {
     "name": "stdout",
     "output_type": "stream",
     "text": [
      "DecisionTreeClassifier()\n"
     ]
    }
   ],
   "source": [
    "# 모델작성 패러메터의 확인\n",
    "print(clf)"
   ]
  },
  {
   "cell_type": "code",
   "execution_count": 25,
   "metadata": {},
   "outputs": [
    {
     "data": {
      "text/plain": [
       "GridSearchCV(cv=KFold(n_splits=10, random_state=None, shuffle=True),\n",
       "             estimator=DecisionTreeClassifier(),\n",
       "             param_grid={'criterion': ['entropy'],\n",
       "                         'max_depth': [2, 4, 6, 8, 10],\n",
       "                         'min_samples_leaf': [10, 20, 30, 40, 50]},\n",
       "             scoring='accuracy')"
      ]
     },
     "execution_count": 25,
     "metadata": {},
     "output_type": "execute_result"
    }
   ],
   "source": [
    "# Scikit-learn의 로드\n",
    "from sklearn.model_selection import GridSearchCV\n",
    "\n",
    "# 패러메터의 범위설정\n",
    "params = {\n",
    "    'criterion': ['entropy'],    \n",
    "    'max_depth': [2, 4, 6, 8, 10],\n",
    "    'min_samples_leaf': [10, 20, 30, 40, 50],\n",
    "}\n",
    "\n",
    "# 그리드 서치의 실행조건을 설정\n",
    "clf_gs = GridSearchCV(tree.DecisionTreeClassifier(), params, \n",
    "                      cv=KFold(n_splits=10, shuffle=True), scoring='accuracy')\n",
    "\n",
    "# 그리드 서치 실행\n",
    "clf_gs.fit(X, Y)"
   ]
  },
  {
   "cell_type": "code",
   "execution_count": 27,
   "metadata": {},
   "outputs": [
    {
     "name": "stdout",
     "output_type": "stream",
     "text": [
      "0.9689893702259494\n",
      "{'criterion': 'entropy', 'max_depth': 8, 'min_samples_leaf': 10}\n"
     ]
    }
   ],
   "source": [
    "# 가장 높은 정밀도와 패러메터의 조합을 표시\n",
    "print(clf_gs.best_score_)\n",
    "print(clf_gs.best_params_)"
   ]
  },
  {
   "cell_type": "code",
   "execution_count": null,
   "metadata": {},
   "outputs": [],
   "source": []
  }
 ],
 "metadata": {
  "kernelspec": {
   "display_name": "Python 3",
   "language": "python",
   "name": "python3"
  },
  "language_info": {
   "codemirror_mode": {
    "name": "ipython",
    "version": 3
   },
   "file_extension": ".py",
   "mimetype": "text/x-python",
   "name": "python",
   "nbconvert_exporter": "python",
   "pygments_lexer": "ipython3",
   "version": "3.8.6"
  }
 },
 "nbformat": 4,
 "nbformat_minor": 4
}
